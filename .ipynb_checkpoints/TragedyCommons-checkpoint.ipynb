{
 "cells": [
  {
   "cell_type": "code",
   "execution_count": null,
   "id": "ac961af0",
   "metadata": {},
   "outputs": [],
   "source": [
    "Tradgedy of Commons "
   ]
  },
  {
   "cell_type": "code",
   "execution_count": 3,
   "id": "20c148cb-5311-4cd5-b3e3-0059f38d847e",
   "metadata": {},
   "outputs": [],
   "source": [
    "import pandas as pd\n",
    "from matplotlib import pyplot as plt\n",
    "import seaborn as sns"
   ]
  },
  {
   "cell_type": "code",
   "execution_count": 4,
   "id": "f2f044f9-fa66-45e1-b4cc-d05cb5bf097f",
   "metadata": {},
   "outputs": [],
   "source": [
    "df = pd.read_csv('./data/AtlanticFish.csv')"
   ]
  },
  {
   "cell_type": "code",
   "execution_count": 5,
   "id": "afabcc7f-9539-49ff-85bc-f2ca7253f979",
   "metadata": {},
   "outputs": [
    {
     "data": {
      "text/html": [
       "<div>\n",
       "<style scoped>\n",
       "    .dataframe tbody tr th:only-of-type {\n",
       "        vertical-align: middle;\n",
       "    }\n",
       "\n",
       "    .dataframe tbody tr th {\n",
       "        vertical-align: top;\n",
       "    }\n",
       "\n",
       "    .dataframe thead th {\n",
       "        text-align: right;\n",
       "    }\n",
       "</style>\n",
       "<table border=\"1\" class=\"dataframe\">\n",
       "  <thead>\n",
       "    <tr style=\"text-align: right;\">\n",
       "      <th></th>\n",
       "      <th>Year</th>\n",
       "      <th>Country</th>\n",
       "      <th>Species</th>\n",
       "      <th>Region</th>\n",
       "      <th>Catch (Tons)</th>\n",
       "    </tr>\n",
       "  </thead>\n",
       "  <tbody>\n",
       "    <tr>\n",
       "      <th>0</th>\n",
       "      <td>1950</td>\n",
       "      <td>Canada</td>\n",
       "      <td>Atlantic bluefin tuna</td>\n",
       "      <td>Atlantic, Northwest</td>\n",
       "      <td>432.0</td>\n",
       "    </tr>\n",
       "    <tr>\n",
       "      <th>1</th>\n",
       "      <td>1951</td>\n",
       "      <td>Canada</td>\n",
       "      <td>Atlantic bluefin tuna</td>\n",
       "      <td>Atlantic, Northwest</td>\n",
       "      <td>299.0</td>\n",
       "    </tr>\n",
       "    <tr>\n",
       "      <th>2</th>\n",
       "      <td>1952</td>\n",
       "      <td>Canada</td>\n",
       "      <td>Atlantic bluefin tuna</td>\n",
       "      <td>Atlantic, Northwest</td>\n",
       "      <td>368.0</td>\n",
       "    </tr>\n",
       "    <tr>\n",
       "      <th>3</th>\n",
       "      <td>1953</td>\n",
       "      <td>Canada</td>\n",
       "      <td>Atlantic bluefin tuna</td>\n",
       "      <td>Atlantic, Northwest</td>\n",
       "      <td>201.0</td>\n",
       "    </tr>\n",
       "    <tr>\n",
       "      <th>4</th>\n",
       "      <td>1954</td>\n",
       "      <td>Canada</td>\n",
       "      <td>Atlantic bluefin tuna</td>\n",
       "      <td>Atlantic, Northwest</td>\n",
       "      <td>175.0</td>\n",
       "    </tr>\n",
       "  </tbody>\n",
       "</table>\n",
       "</div>"
      ],
      "text/plain": [
       "   Year Country                Species               Region  Catch (Tons)\n",
       "0  1950  Canada  Atlantic bluefin tuna  Atlantic, Northwest         432.0\n",
       "1  1951  Canada  Atlantic bluefin tuna  Atlantic, Northwest         299.0\n",
       "2  1952  Canada  Atlantic bluefin tuna  Atlantic, Northwest         368.0\n",
       "3  1953  Canada  Atlantic bluefin tuna  Atlantic, Northwest         201.0\n",
       "4  1954  Canada  Atlantic bluefin tuna  Atlantic, Northwest         175.0"
      ]
     },
     "execution_count": 5,
     "metadata": {},
     "output_type": "execute_result"
    }
   ],
   "source": [
    "df.head()"
   ]
  },
  {
   "cell_type": "code",
   "execution_count": null,
   "id": "68180a27-2eba-4a81-b50d-bdf94cc034dd",
   "metadata": {},
   "outputs": [],
   "source": [
    "df.columns"
   ]
  },
  {
   "cell_type": "code",
   "execution_count": null,
   "id": "e1742adf-3a98-44fe-b903-349329a83cb7",
   "metadata": {},
   "outputs": [],
   "source": [
    "us = df[df.Country == 'United States of America']"
   ]
  },
  {
   "cell_type": "code",
   "execution_count": null,
   "id": "22e497f6-aaf4-485d-97dc-108b9839622c",
   "metadata": {},
   "outputs": [],
   "source": [
    "swordfish = df[df.Species == 'Swordfish']"
   ]
  },
  {
   "cell_type": "code",
   "execution_count": null,
   "id": "7b98358f-62a1-4846-8815-e1e22447114f",
   "metadata": {},
   "outputs": [],
   "source": [
    "swordfish\n"
   ]
  },
  {
   "cell_type": "code",
   "execution_count": null,
   "id": "f9b95c36-a64a-4003-b19f-22c043c8ada6",
   "metadata": {},
   "outputs": [],
   "source": [
    "sns.lineplot(x = \"Year\", y = \"Catch (Tons)\", data = swordfish, hue='Country', style='Region')"
   ]
  },
  {
   "cell_type": "code",
   "execution_count": null,
   "id": "39b33edc-5f3f-4aba-a2e3-5277f9d73c7f",
   "metadata": {},
   "outputs": [],
   "source": []
  }
 ],
 "metadata": {
  "kernelspec": {
   "display_name": "Python 3",
   "language": "python",
   "name": "python3"
  },
  "language_info": {
   "codemirror_mode": {
    "name": "ipython",
    "version": 3
   },
   "file_extension": ".py",
   "mimetype": "text/x-python",
   "name": "python",
   "nbconvert_exporter": "python",
   "pygments_lexer": "ipython3",
   "version": "3.8.8"
  }
 },
 "nbformat": 4,
 "nbformat_minor": 5
}
